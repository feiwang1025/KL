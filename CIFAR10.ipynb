{
 "cells": [
  {
   "cell_type": "code",
   "execution_count": 1,
   "metadata": {},
   "outputs": [],
   "source": [
    "import ConstraintsExtraction\n",
    "from ConstraintsExtraction import *"
   ]
  },
  {
   "cell_type": "code",
   "execution_count": 2,
   "metadata": {},
   "outputs": [],
   "source": [
    "import ConstraintScalingProjection_LP \n",
    "import BregmanProjection\n",
    "import KernelFDA \n",
    "import SC_MPI\n",
    "import KISSME \n",
    "import imp\n",
    "\n",
    "\n"
   ]
  },
  {
   "cell_type": "code",
   "execution_count": 12,
   "metadata": {},
   "outputs": [
    {
     "data": {
      "text/plain": [
       "(<module 'ConstraintScalingProjection_LP' from 'C:\\\\Users\\\\49048\\\\experiments for S2MDC\\\\ConstraintScalingProjection_LP.py'>,\n",
       " <module 'KISSME' from 'C:\\\\Users\\\\49048\\\\experiments for S2MDC\\\\KISSME.py'>,\n",
       " <module 'BregmanProjection' from 'C:\\\\Users\\\\49048\\\\experiments for S2MDC\\\\BregmanProjection.py'>,\n",
       " <module 'KernelFDA' from 'C:\\\\Users\\\\49048\\\\experiments for S2MDC\\\\KernelFDA.py'>,\n",
       " <module 'SC_MPI' from 'C:\\\\Users\\\\49048\\\\experiments for S2MDC\\\\SC_MPI.py'>)"
      ]
     },
     "execution_count": 12,
     "metadata": {},
     "output_type": "execute_result"
    }
   ],
   "source": [
    "\n",
    "\n",
    "imp.reload(ConstraintScalingProjection_LP),imp.reload(KISSME),imp.reload(BregmanProjection),imp.reload(KernelFDA),imp.reload(SC_MPI)"
   ]
  },
  {
   "cell_type": "code",
   "execution_count": 3,
   "metadata": {},
   "outputs": [],
   "source": []
  },
  {
   "cell_type": "code",
   "execution_count": 3,
   "metadata": {},
   "outputs": [],
   "source": [
    "def experiments(X,y,proportion_range,random_state_range,gamma=0.1,\n",
    "                k=1,\n",
    "                dm=0.1,dc=10,γ=1,\n",
    "                alpha=1,r=100\n",
    "               ):\n",
    "    proportion_range=proportion_range\n",
    "    R_KISSME=KISSME.KISSME_experiments(X,y, \n",
    "                            proportion_range=proportion_range,\n",
    "                            random_state_range=random_state_range,)\n",
    "    R_BregProj=BregmanProjection.BregmanProjection_experiments(X,y, gamma=gamma,\n",
    "                        proportion_range=proportion_range,\n",
    "                        random_state_range=random_state_range,\n",
    "                        dm=dm,dc=dc,γ=γ,r=r)\n",
    "    \n",
    "    \n",
    "    \n",
    "    R_SCMPI=SC_MPI.SCMPI_experiments(X,y, gamma=gamma,\n",
    "                            proportion_range=proportion_range,\n",
    "                            random_state_range=random_state_range,\n",
    "                            alpha=alpha)\n",
    "    R_KFDA=KernelFDA.kernelFDA_experiments(X,y, gamma=gamma,\n",
    "                            proportion_range=proportion_range,\n",
    "                            random_state_range=random_state_range)\n",
    "\n",
    "  \n",
    "    \n",
    "    R_CSPLP=ConstraintScalingProjection_LP.ConsScalingProjLP_experiments(X,y, gamma=gamma,\n",
    "                            proportion_range=proportion_range,\n",
    "                            random_state_range=random_state_range,\n",
    "                                 k=1,method='revised simplex')\n",
    "    \n",
    "   \n",
    "    return R_CSPLP,R_BregProj,R_KFDA,R_SCMPI,R_KISSME\n",
    "\n",
    "    \n"
   ]
  },
  {
   "cell_type": "code",
   "execution_count": 4,
   "metadata": {},
   "outputs": [],
   "source": [
    "import matplotlib.pyplot as plt\n",
    "\n",
    "def plot_comparison(R,criterion=0):\n",
    "    l=len(R)\n",
    "    algorithms=['CSP_LP','BregmanProjection','KernelFDA','SCMPI','KISSME']\n",
    "    criteria=['Kmeans_AMI','Kmeans_ARI','Ward_AMI','Ward_ARI','runtime(s)']\n",
    "    lines=['-','--','-.','--',':']\n",
    "    for i in range(l):\n",
    "        Ri=R[i]\n",
    "        average_scores=Ri.mean(axis=2)\n",
    "        var=Ri.var(axis=2)\n",
    "        plt.errorbar(proportion_range,average_scores[:,criterion],var[:,criterion],\n",
    "                     label=algorithms[i],linestyle=lines[i],linewidth=2.5,marker='*',markersize=10)\n",
    "        plt.legend()\n",
    "        plt.ylabel(ylabel=criteria[criterion],fontsize=18)\n",
    "        plt.xlabel('percentage of total',fontsize=18)\n",
    "    \n",
    "    "
   ]
  },
  {
   "cell_type": "markdown",
   "metadata": {},
   "source": [
    "# CIFAR10"
   ]
  },
  {
   "cell_type": "code",
   "execution_count": 5,
   "metadata": {},
   "outputs": [],
   "source": [
    "def unpickle(file):\n",
    "    import pickle\n",
    "    with open(file, 'rb') as fo:\n",
    "        dict = pickle.load(fo, encoding='bytes')\n",
    "    return dict"
   ]
  },
  {
   "cell_type": "code",
   "execution_count": 6,
   "metadata": {},
   "outputs": [],
   "source": [
    "dict_test=unpickle('cifar-10-batches-py/test_batch')"
   ]
  },
  {
   "cell_type": "code",
   "execution_count": 7,
   "metadata": {},
   "outputs": [
    {
     "data": {
      "text/plain": [
       "dict_keys([b'batch_label', b'labels', b'data', b'filenames'])"
      ]
     },
     "execution_count": 7,
     "metadata": {},
     "output_type": "execute_result"
    }
   ],
   "source": [
    "dict_test.keys()"
   ]
  },
  {
   "cell_type": "code",
   "execution_count": 8,
   "metadata": {},
   "outputs": [],
   "source": [
    "X_t=dict_test[ b'data']\n",
    "y_t=array(dict_test[ b'labels'])"
   ]
  },
  {
   "cell_type": "code",
   "execution_count": 9,
   "metadata": {},
   "outputs": [
    {
     "data": {
      "text/plain": [
       "(10000, 3072)"
      ]
     },
     "execution_count": 9,
     "metadata": {},
     "output_type": "execute_result"
    }
   ],
   "source": [
    "X_t.shape"
   ]
  },
  {
   "cell_type": "code",
   "execution_count": 15,
   "metadata": {},
   "outputs": [],
   "source": [
    "from skimage.color import rgb2gray  \n",
    "def togray(data):\n",
    "    n=data.shape[0]\n",
    "    d=int(data.shape[1]/3)\n",
    "    img_gray=zeros((n,d))\n",
    "    for i in range(n):\n",
    "        Xi=data[i]\n",
    "        Xi_rgb=Xi.reshape(3,32,32).transpose([1,2,0])\n",
    "        Xi_gray=rgb2gray(Xi_rgb)\n",
    "        img_gray[i]=Xi_gray.ravel()\n",
    "    return img_gray\n",
    "        "
   ]
  },
  {
   "cell_type": "code",
   "execution_count": 16,
   "metadata": {},
   "outputs": [
    {
     "data": {
      "text/plain": [
       "(10000, 1024)"
      ]
     },
     "execution_count": 16,
     "metadata": {},
     "output_type": "execute_result"
    }
   ],
   "source": [
    "X_gray=togray(X_t)\n",
    "X_gray.shape"
   ]
  },
  {
   "cell_type": "code",
   "execution_count": 17,
   "metadata": {},
   "outputs": [
    {
     "data": {
      "text/plain": [
       "<matplotlib.image.AxesImage at 0x19283698490>"
      ]
     },
     "execution_count": 17,
     "metadata": {},
     "output_type": "execute_result"
    },
    {
     "data": {
      "image/png": "[encoded data removed]",
      "text/plain": [
       "<Figure size 432x288 with 1 Axes>"
      ]
     },
     "metadata": {
      "needs_background": "light"
     },
     "output_type": "display_data"
    }
   ],
   "source": [
    "plt.imshow(X_gray[1].reshape(32,32))"
   ]
  },
  {
   "cell_type": "code",
   "execution_count": 253,
   "metadata": {},
   "outputs": [],
   "source": [
    "X_=MinMaxScaler().fit_transform(X_)"
   ]
  },
  {
   "cell_type": "code",
   "execution_count": 332,
   "metadata": {
    "scrolled": true
   },
   "outputs": [
    {
     "name": "stdout",
     "output_type": "stream",
     "text": [
      "KISSME i 0\n",
      "KISSME i 1\n",
      "KISSME i 2\n",
      "KISSME i 3\n",
      "KISSME i 4\n",
      "KISSME i 5\n",
      "BregmanProj i 0\n",
      "BregmanProj i 1\n",
      "BregmanProj i 2\n",
      "BregmanProj i 3\n",
      "BregmanProj i 4\n",
      "BregmanProj i 5\n",
      "SCMPI p 0.2\n",
      "SCMPI p 0.30000000000000004\n",
      "SCMPI p 0.4000000000000001\n",
      "SCMPI p 0.5000000000000001\n",
      "SCMPI p 0.6000000000000001\n",
      "SCMPI p 0.7000000000000002\n",
      "kernelFDA i 0\n",
      "kernelFDA i 1\n",
      "kernelFDA i 2\n",
      "kernelFDA i 3\n",
      "kernelFDA i 4\n",
      "kernelFDA i 5\n",
      "ConsScalingProjLP i 0\n",
      "ConsScalingProjLP i 1\n",
      "ConsScalingProjLP i 2\n",
      "ConsScalingProjLP i 3\n",
      "ConsScalingProjLP i 4\n",
      "ConsScalingProjLP i 5\n"
     ]
    }
   ],
   "source": [
    "proportion_range=np.arange(0.1,0.36,0.05)\n",
    "random_state_range=np.arange(7,8)\n",
    "r_cifar1=experiments(X_gray,y_,proportion_range,random_state_range,gamma=1,\n",
    "                k=1,\n",
    "                dm=0.1,dc=10,γ=1,\n",
    "                alpha=1,r=100\n",
    "               )"
   ]
  },
  {
   "cell_type": "markdown",
   "metadata": {},
   "source": [
    "# Results on CIFAR10"
   ]
  },
  {
   "cell_type": "code",
   "execution_count": 154,
   "metadata": {},
   "outputs": [
    {
     "data": {
      "text/html": [
       "<div>\n",
       "<style scoped>\n",
       "    .dataframe tbody tr th:only-of-type {\n",
       "        vertical-align: middle;\n",
       "    }\n",
       "\n",
       "    .dataframe tbody tr th {\n",
       "        vertical-align: top;\n",
       "    }\n",
       "\n",
       "    .dataframe thead th {\n",
       "        text-align: right;\n",
       "    }\n",
       "</style>\n",
       "<table border=\"1\" class=\"dataframe\">\n",
       "  <thead>\n",
       "    <tr style=\"text-align: right;\">\n",
       "      <th></th>\n",
       "      <th>CSP_LP</th>\n",
       "      <th>Bregman</th>\n",
       "      <th>KernelFDA</th>\n",
       "      <th>SC_MPI</th>\n",
       "      <th>KISSME</th>\n",
       "    </tr>\n",
       "  </thead>\n",
       "  <tbody>\n",
       "    <tr>\n",
       "      <th>0.10</th>\n",
       "      <td>0.26375</td>\n",
       "      <td>0.26375</td>\n",
       "      <td>0.01994</td>\n",
       "      <td>0.27762</td>\n",
       "      <td>0.19148</td>\n",
       "    </tr>\n",
       "    <tr>\n",
       "      <th>0.15</th>\n",
       "      <td>0.35725</td>\n",
       "      <td>0.36170</td>\n",
       "      <td>0.00590</td>\n",
       "      <td>0.35788</td>\n",
       "      <td>0.27277</td>\n",
       "    </tr>\n",
       "    <tr>\n",
       "      <th>0.20</th>\n",
       "      <td>0.44525</td>\n",
       "      <td>0.44852</td>\n",
       "      <td>0.00651</td>\n",
       "      <td>0.46956</td>\n",
       "      <td>0.34875</td>\n",
       "    </tr>\n",
       "    <tr>\n",
       "      <th>0.25</th>\n",
       "      <td>0.52731</td>\n",
       "      <td>0.52896</td>\n",
       "      <td>0.01510</td>\n",
       "      <td>0.55233</td>\n",
       "      <td>0.42200</td>\n",
       "    </tr>\n",
       "    <tr>\n",
       "      <th>0.30</th>\n",
       "      <td>0.60661</td>\n",
       "      <td>0.60623</td>\n",
       "      <td>0.00177</td>\n",
       "      <td>0.63162</td>\n",
       "      <td>0.49466</td>\n",
       "    </tr>\n",
       "    <tr>\n",
       "      <th>0.35</th>\n",
       "      <td>0.68612</td>\n",
       "      <td>0.68314</td>\n",
       "      <td>0.00189</td>\n",
       "      <td>0.71017</td>\n",
       "      <td>0.56897</td>\n",
       "    </tr>\n",
       "  </tbody>\n",
       "</table>\n",
       "</div>"
      ],
      "text/plain": [
       "       CSP_LP  Bregman  KernelFDA   SC_MPI   KISSME\n",
       "0.10  0.26375  0.26375    0.01994  0.27762  0.19148\n",
       "0.15  0.35725  0.36170    0.00590  0.35788  0.27277\n",
       "0.20  0.44525  0.44852    0.00651  0.46956  0.34875\n",
       "0.25  0.52731  0.52896    0.01510  0.55233  0.42200\n",
       "0.30  0.60661  0.60623    0.00177  0.63162  0.49466\n",
       "0.35  0.68612  0.68314    0.00189  0.71017  0.56897"
      ]
     },
     "execution_count": 154,
     "metadata": {},
     "output_type": "execute_result"
    }
   ],
   "source": [
    "p_range=proportion_range\n",
    "for criterion in arange(5):\n",
    "        r=array(r_cifar).mean(axis=3)[:,:,0].T\n",
    "        criteria=['KmAmi','KmAri','WardAmi','WardAri','runtime']\n",
    "        cat=criteria[criterion]\n",
    "        r_df=pd.DataFrame(data=np.round(r,5), index=p_range,\n",
    "                                         columns=['CSP_LP','Bregman','KernelFDA','SC_MPI','KISSME'])\n",
    "r_df"
   ]
  },
  {
   "cell_type": "markdown",
   "metadata": {},
   "source": [
    "# Time costs on CIFAR10"
   ]
  },
  {
   "cell_type": "code",
   "execution_count": 158,
   "metadata": {},
   "outputs": [
    {
     "data": {
      "text/html": [
       "<div>\n",
       "<style scoped>\n",
       "    .dataframe tbody tr th:only-of-type {\n",
       "        vertical-align: middle;\n",
       "    }\n",
       "\n",
       "    .dataframe tbody tr th {\n",
       "        vertical-align: top;\n",
       "    }\n",
       "\n",
       "    .dataframe thead th {\n",
       "        text-align: right;\n",
       "    }\n",
       "</style>\n",
       "<table border=\"1\" class=\"dataframe\">\n",
       "  <thead>\n",
       "    <tr style=\"text-align: right;\">\n",
       "      <th></th>\n",
       "      <th>CSP_LP</th>\n",
       "      <th>Bregman</th>\n",
       "      <th>KernelFDA</th>\n",
       "      <th>SC_MPI</th>\n",
       "      <th>KISSME</th>\n",
       "    </tr>\n",
       "  </thead>\n",
       "  <tbody>\n",
       "    <tr>\n",
       "      <th>0.10</th>\n",
       "      <td>0.10163</td>\n",
       "      <td>214.93932</td>\n",
       "      <td>36.03255</td>\n",
       "      <td>16.90993</td>\n",
       "      <td>6.96282</td>\n",
       "    </tr>\n",
       "    <tr>\n",
       "      <th>0.15</th>\n",
       "      <td>0.03562</td>\n",
       "      <td>266.80778</td>\n",
       "      <td>37.32223</td>\n",
       "      <td>17.01391</td>\n",
       "      <td>6.99212</td>\n",
       "    </tr>\n",
       "    <tr>\n",
       "      <th>0.20</th>\n",
       "      <td>0.03529</td>\n",
       "      <td>306.86063</td>\n",
       "      <td>38.02895</td>\n",
       "      <td>16.99328</td>\n",
       "      <td>7.29327</td>\n",
       "    </tr>\n",
       "    <tr>\n",
       "      <th>0.25</th>\n",
       "      <td>0.04361</td>\n",
       "      <td>336.53739</td>\n",
       "      <td>38.68433</td>\n",
       "      <td>17.19283</td>\n",
       "      <td>7.38339</td>\n",
       "    </tr>\n",
       "    <tr>\n",
       "      <th>0.30</th>\n",
       "      <td>0.04958</td>\n",
       "      <td>359.60901</td>\n",
       "      <td>39.65418</td>\n",
       "      <td>17.15837</td>\n",
       "      <td>7.58103</td>\n",
       "    </tr>\n",
       "    <tr>\n",
       "      <th>0.35</th>\n",
       "      <td>0.04593</td>\n",
       "      <td>376.94218</td>\n",
       "      <td>40.17864</td>\n",
       "      <td>17.41800</td>\n",
       "      <td>7.54307</td>\n",
       "    </tr>\n",
       "  </tbody>\n",
       "</table>\n",
       "</div>"
      ],
      "text/plain": [
       "       CSP_LP    Bregman  KernelFDA    SC_MPI   KISSME\n",
       "0.10  0.10163  214.93932   36.03255  16.90993  6.96282\n",
       "0.15  0.03562  266.80778   37.32223  17.01391  6.99212\n",
       "0.20  0.03529  306.86063   38.02895  16.99328  7.29327\n",
       "0.25  0.04361  336.53739   38.68433  17.19283  7.38339\n",
       "0.30  0.04958  359.60901   39.65418  17.15837  7.58103\n",
       "0.35  0.04593  376.94218   40.17864  17.41800  7.54307"
      ]
     },
     "execution_count": 158,
     "metadata": {},
     "output_type": "execute_result"
    }
   ],
   "source": [
    "p_range=proportion_range\n",
    "for criterion in arange(5):\n",
    "        r=array(r_cifar).mean(axis=3)[:,:,4].T\n",
    "        criteria=['KmAmi','KmAri','WardAmi','WardAri','runtime']\n",
    "        cat=criteria[criterion]\n",
    "        r_df=pd.DataFrame(data=np.round(r,5), index=p_range,\n",
    "                                         columns=['CSP_LP','Bregman','KernelFDA','SC_MPI','KISSME'])\n",
    "r_df"
   ]
  },
  {
   "cell_type": "code",
   "execution_count": null,
   "metadata": {},
   "outputs": [],
   "source": []
  },
  {
   "cell_type": "code",
   "execution_count": null,
   "metadata": {},
   "outputs": [],
   "source": []
  }
 ],
 "metadata": {
  "kernelspec": {
   "display_name": "Python 3",
   "language": "python",
   "name": "python3"
  },
  "language_info": {
   "codemirror_mode": {
    "name": "ipython",
    "version": 3
   },
   "file_extension": ".py",
   "mimetype": "text/x-python",
   "name": "python",
   "nbconvert_exporter": "python",
   "pygments_lexer": "ipython3",
   "version": "3.8.5"
  }
 },
 "nbformat": 4,
 "nbformat_minor": 2
}
