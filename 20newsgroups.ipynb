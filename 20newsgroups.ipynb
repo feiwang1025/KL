{
 "cells": [
  {
   "cell_type": "code",
   "execution_count": 1,
   "metadata": {},
   "outputs": [],
   "source": [
    "import ConstraintsExtraction\n",
    "from ConstraintsExtraction import *"
   ]
  },
  {
   "cell_type": "code",
   "execution_count": 2,
   "metadata": {},
   "outputs": [],
   "source": [
    "import ConstraintScalingProjection_LP \n",
    "import BregmanProjection\n",
    "import KernelFDA \n",
    "import SC_MPI\n",
    "import KISSME \n",
    "import imp\n",
    "\n",
    "\n"
   ]
  },
  {
   "cell_type": "code",
   "execution_count": 3,
   "metadata": {},
   "outputs": [
    {
     "data": {
      "text/plain": [
       "(<module 'ConstraintsExtraction' from 'C:\\\\Users\\\\49048\\\\experiments for S2MDC\\\\ConstraintsExtraction.py'>,\n",
       " <module 'KISSME' from 'C:\\\\Users\\\\49048\\\\experiments for S2MDC\\\\KISSME.py'>,\n",
       " <module 'BregmanProjection' from 'C:\\\\Users\\\\49048\\\\experiments for S2MDC\\\\BregmanProjection.py'>)"
      ]
     },
     "execution_count": 3,
     "metadata": {},
     "output_type": "execute_result"
    }
   ],
   "source": [
    "\n",
    "\n",
    "imp.reload(ConstraintsExtraction),imp.reload(KISSME),imp.reload(BregmanProjection)"
   ]
  },
  {
   "cell_type": "code",
   "execution_count": 3,
   "metadata": {},
   "outputs": [],
   "source": []
  },
  {
   "cell_type": "code",
   "execution_count": 3,
   "metadata": {},
   "outputs": [],
   "source": [
    "def experiments(X,y,proportion_range,random_state_range,gamma=0.1,\n",
    "                k=1,\n",
    "                dm=0.1,dc=10,γ=1,\n",
    "                alpha=1,r=100\n",
    "               ):\n",
    "    R_KISSME=KISSME.KISSME_experiments(X,y, \n",
    "                            proportion_range=proportion_range,\n",
    "                            random_state_range=random_state_range,)\n",
    "    R_BregProj=BregmanProjection.BregmanProjection_experiments(X,y, gamma=gamma,\n",
    "                        proportion_range=proportion_range,\n",
    "                        random_state_range=random_state_range,\n",
    "                        dm=dm,dc=dc,γ=γ,r=r)\n",
    "    \n",
    "    \n",
    "    \n",
    "    R_SCMPI=SC_MPI.SCMPI_experiments(X,y, gamma=gamma,\n",
    "                            proportion_range=proportion_range,\n",
    "                            random_state_range=random_state_range,\n",
    "                            alpha=alpha)\n",
    "    R_KFDA=KernelFDA.kernelFDA_experiments(X,y, gamma=gamma,\n",
    "                            proportion_range=proportion_range,\n",
    "                            random_state_range=random_state_range)\n",
    "\n",
    "  \n",
    "    \n",
    "    R_CSPLP=ConstraintScalingProjection_LP.ConsScalingProjLP_experiments(X,y, gamma=gamma,\n",
    "                            proportion_range=proportion_range,\n",
    "                            random_state_range=random_state_range,\n",
    "                                 k=1,method='revised simplex')\n",
    "    \n",
    "   \n",
    "    return R_CSPLP,R_BregProj,R_KFDA,R_SCMPI,R_KISSME\n",
    "\n",
    "    \n"
   ]
  },
  {
   "cell_type": "code",
   "execution_count": 4,
   "metadata": {},
   "outputs": [],
   "source": [
    "import matplotlib.pyplot as plt\n",
    "\n",
    "def plot_comparison(R,criterion=0):\n",
    "    l=len(R)\n",
    "    algorithms=['CSP_LP','BregmanProjection','KernelFDA','SCMPI','KISSME']\n",
    "    criteria=['Kmeans_AMI','Kmeans_ARI','Ward_AMI','Ward_ARI','runtime(s)']\n",
    "    lines=['-','--','-.','--',':']\n",
    "    for i in range(l):\n",
    "        Ri=R[i]\n",
    "        average_scores=Ri.mean(axis=2)\n",
    "        var=Ri.var(axis=2)\n",
    "        plt.errorbar(proportion_range,average_scores[:,criterion],var[:,criterion],\n",
    "                     label=algorithms[i],linestyle=lines[i],linewidth=2.5,marker='*',markersize=10)\n",
    "        plt.legend()\n",
    "        plt.ylabel(ylabel=criteria[criterion],fontsize=18)\n",
    "        plt.xlabel('percentage of total',fontsize=18)\n",
    "    \n",
    "    "
   ]
  },
  {
   "cell_type": "markdown",
   "metadata": {},
   "source": [
    "# Datasets"
   ]
  },
  {
   "cell_type": "code",
   "execution_count": 5,
   "metadata": {},
   "outputs": [
    {
     "name": "stdout",
     "output_type": "stream",
     "text": [
      "Automatically created module for IPython interactive environment\n"
     ]
    }
   ],
   "source": [
    "# Author: Peter Prettenhofer <peter.prettenhofer@gmail.com>\n",
    "#         Lars Buitinck\n",
    "# License: BSD 3 clause\n",
    "\n",
    "from sklearn.datasets import fetch_20newsgroups\n",
    "from sklearn.decomposition import TruncatedSVD\n",
    "from sklearn.feature_extraction.text import TfidfVectorizer\n",
    "from sklearn.feature_extraction.text import HashingVectorizer\n",
    "from sklearn.feature_extraction.text import TfidfTransformer\n",
    "from sklearn.pipeline import make_pipeline\n",
    "from sklearn.preprocessing import Normalizer\n",
    "from sklearn import metrics\n",
    "\n",
    "from sklearn.cluster import KMeans, MiniBatchKMeans\n",
    "\n",
    "import logging\n",
    "from optparse import OptionParser\n",
    "import sys\n",
    "from time import time\n",
    "\n",
    "import numpy as np\n",
    "\n",
    "\n",
    "# Display progress logs on stdout\n",
    "logging.basicConfig(level=logging.INFO, format=\"%(asctime)s %(levelname)s %(message)s\")\n",
    "\n",
    "# parse commandline arguments\n",
    "op = OptionParser()\n",
    "op.add_option(\n",
    "    \"--lsa\",\n",
    "    dest=\"n_components\",\n",
    "    type=\"int\",\n",
    "    help=\"Preprocess documents with latent semantic analysis.\",\n",
    ")\n",
    "op.add_option(\n",
    "    \"--no-minibatch\",\n",
    "    action=\"store_false\",\n",
    "    dest=\"minibatch\",\n",
    "    default=True,\n",
    "    help=\"Use ordinary k-means algorithm (in batch mode).\",\n",
    ")\n",
    "op.add_option(\n",
    "    \"--no-idf\",\n",
    "    action=\"store_false\",\n",
    "    dest=\"use_idf\",\n",
    "    default=True,\n",
    "    help=\"Disable Inverse Document Frequency feature weighting.\",\n",
    ")\n",
    "op.add_option(\n",
    "    \"--use-hashing\",\n",
    "    action=\"store_true\",\n",
    "    default=False,\n",
    "    help=\"Use a hashing feature vectorizer\",\n",
    ")\n",
    "op.add_option(\n",
    "    \"--n-features\",\n",
    "    type=int,\n",
    "    default=10000,\n",
    "    help=\"Maximum number of features (dimensions) to extract from text.\",\n",
    ")\n",
    "op.add_option(\n",
    "    \"--verbose\",\n",
    "    action=\"store_true\",\n",
    "    dest=\"verbose\",\n",
    "    default=False,\n",
    "    help=\"Print progress reports inside k-means algorithm.\",\n",
    ")\n",
    "\n",
    "print(__doc__)\n",
    "\n",
    "\n",
    "def is_interactive():\n",
    "    return not hasattr(sys.modules[\"__main__\"], \"__file__\")\n",
    "\n",
    "\n",
    "if not is_interactive():\n",
    "    op.print_help()\n",
    "    print()\n",
    "\n",
    "# work-around for Jupyter notebook and IPython console\n",
    "argv = [] if is_interactive() else sys.argv[1:]\n",
    "(opts, args) = op.parse_args(argv)\n",
    "if len(args) > 0:\n",
    "    op.error(\"this script takes no arguments.\")\n",
    "    sys.exit(1)"
   ]
  },
  {
   "cell_type": "code",
   "execution_count": 6,
   "metadata": {},
   "outputs": [
    {
     "name": "stdout",
     "output_type": "stream",
     "text": [
      "Loading 20 newsgroups dataset for categories:\n",
      "['alt.atheism', 'talk.religion.misc', 'comp.graphics', 'sci.space']\n",
      "18846 documents\n",
      "20 categories\n",
      "\n"
     ]
    }
   ],
   "source": [
    "categories = [\n",
    "    \"alt.atheism\",\n",
    "    \"talk.religion.misc\",\n",
    "    \"comp.graphics\",\n",
    "    \"sci.space\",\n",
    "]\n",
    "# Uncomment the following to do the analysis on all the categories\n",
    "# categories = None\n",
    "\n",
    "print(\"Loading 20 newsgroups dataset for categories:\")\n",
    "print(categories)\n",
    "\n",
    "dataset = fetch_20newsgroups(\n",
    "    subset=\"all\", categories=None, shuffle=True, random_state=42\n",
    ")\n",
    "\n",
    "print(\"%d documents\" % len(dataset.data))\n",
    "print(\"%d categories\" % len(dataset.target_names))\n",
    "print()"
   ]
  },
  {
   "cell_type": "code",
   "execution_count": 7,
   "metadata": {},
   "outputs": [
    {
     "name": "stdout",
     "output_type": "stream",
     "text": [
      "Extracting features from the training dataset using a sparse vectorizer\n",
      "1\n",
      "done in 3.625584s\n",
      "n_samples: 18846, n_features: 10000\n",
      "\n"
     ]
    }
   ],
   "source": [
    "labels = dataset.target\n",
    "true_k = np.unique(labels).shape[0]\n",
    "\n",
    "print(\"Extracting features from the training dataset using a sparse vectorizer\")\n",
    "t0 = time()\n",
    "if opts.use_hashing:\n",
    "    if opts.use_idf:\n",
    "        # Perform an IDF normalization on the output of HashingVectorizer\n",
    "        hasher = HashingVectorizer(\n",
    "            n_features=opts.n_features,\n",
    "            stop_words=\"english\",\n",
    "            alternate_sign=False,\n",
    "            norm=None,\n",
    "        )\n",
    "        vectorizer = make_pipeline(hasher, TfidfTransformer())\n",
    "    else:\n",
    "        vectorizer = HashingVectorizer(\n",
    "            n_features=opts.n_features,\n",
    "            stop_words=\"english\",\n",
    "            alternate_sign=False,\n",
    "            norm=\"l2\",\n",
    "        )\n",
    "else:\n",
    "    print('1')\n",
    "    vectorizer = TfidfVectorizer(\n",
    "        max_df=0.5,\n",
    "        max_features=opts.n_features,\n",
    "        min_df=2,\n",
    "        stop_words=\"english\",\n",
    "        use_idf=opts.use_idf,\n",
    "    )\n",
    "X = vectorizer.fit_transform(dataset.data)\n",
    "\n",
    "print(\"done in %fs\" % (time() - t0))\n",
    "print(\"n_samples: %d, n_features: %d\" % X.shape)\n",
    "print()\n",
    "\n",
    "if opts.n_components:\n",
    "    print(\"Performing dimensionality reduction using LSA\")\n",
    "    t0 = time()\n",
    "    # Since LSA/SVD results are not normalized,\n",
    "    # we redo the normalization to improve the k-means result.\n",
    "    svd = TruncatedSVD(opts.n_components)\n",
    "    normalizer = Normalizer(copy=False)\n",
    "    lsa = make_pipeline(svd, normalizer)\n",
    "\n",
    "    X = lsa.fit_transform(X)\n",
    "\n",
    "    print(\"done in %fs\" % (time() - t0))\n",
    "\n",
    "    explained_variance = svd.explained_variance_ratio_.sum()\n",
    "    print(\n",
    "        \"Explained variance of the SVD step: {}%\".format(int(explained_variance * 100))\n",
    "    )\n",
    "\n",
    "    print()"
   ]
  },
  {
   "cell_type": "code",
   "execution_count": 8,
   "metadata": {},
   "outputs": [],
   "source": [
    "X_=X.todense()"
   ]
  },
  {
   "cell_type": "code",
   "execution_count": 48,
   "metadata": {},
   "outputs": [
    {
     "data": {
      "text/plain": [
       "(9778, 10000)"
      ]
     },
     "execution_count": 48,
     "metadata": {},
     "output_type": "execute_result"
    }
   ],
   "source": [
    "X1,y1=randompick(X_,labels,10)\n",
    "X1.shape"
   ]
  },
  {
   "cell_type": "code",
   "execution_count": 18,
   "metadata": {},
   "outputs": [],
   "source": [
    "import warnings\n",
    "warnings.filterwarnings('ignore')"
   ]
  },
  {
   "cell_type": "code",
   "execution_count": 50,
   "metadata": {
    "scrolled": true
   },
   "outputs": [
    {
     "name": "stdout",
     "output_type": "stream",
     "text": [
      "KISSME i 0\n",
      "KISSME i 1\n",
      "KISSME i 2\n",
      "KISSME i 3\n",
      "KISSME i 4\n",
      "KISSME i 5\n",
      "BregmanProj i 0\n",
      "BregmanProj i 1\n",
      "BregmanProj i 2\n",
      "BregmanProj i 3\n",
      "BregmanProj i 4\n",
      "BregmanProj i 5\n",
      "SCMPI i 0\n",
      "SCMPI i 1\n",
      "SCMPI i 2\n",
      "SCMPI i 3\n",
      "SCMPI i 4\n",
      "SCMPI i 5\n",
      "kernelFDA i 0\n",
      "kernelFDA i 1\n",
      "kernelFDA i 2\n",
      "kernelFDA i 3\n",
      "kernelFDA i 4\n",
      "kernelFDA i 5\n",
      "ConsScalingProjLP i 0\n",
      "ConsScalingProjLP i 1\n",
      "ConsScalingProjLP i 2\n",
      "ConsScalingProjLP i 3\n",
      "ConsScalingProjLP i 4\n",
      "ConsScalingProjLP i 5\n"
     ]
    }
   ],
   "source": [
    "proportion_range=np.arange(0.1,0.36,0.05)\n",
    "random_state_range=np.arange(7,8)\n",
    "news_r11=experiments(X1,y1,proportion_range,random_state_range,gamma=0.5,\n",
    "                dm=0.01,dc=10,γ=1,\n",
    "                alpha=1\n",
    "               )"
   ]
  },
  {
   "cell_type": "markdown",
   "metadata": {},
   "source": [
    "# Results evaluated by AMI"
   ]
  },
  {
   "cell_type": "code",
   "execution_count": 57,
   "metadata": {},
   "outputs": [
    {
     "data": {
      "text/html": [
       "<div>\n",
       "<style scoped>\n",
       "    .dataframe tbody tr th:only-of-type {\n",
       "        vertical-align: middle;\n",
       "    }\n",
       "\n",
       "    .dataframe tbody tr th {\n",
       "        vertical-align: top;\n",
       "    }\n",
       "\n",
       "    .dataframe thead th {\n",
       "        text-align: right;\n",
       "    }\n",
       "</style>\n",
       "<table border=\"1\" class=\"dataframe\">\n",
       "  <thead>\n",
       "    <tr style=\"text-align: right;\">\n",
       "      <th></th>\n",
       "      <th>CSP_LP</th>\n",
       "      <th>Bregman</th>\n",
       "      <th>KernelFDA</th>\n",
       "      <th>SC_MPI</th>\n",
       "      <th>KISSME</th>\n",
       "    </tr>\n",
       "  </thead>\n",
       "  <tbody>\n",
       "    <tr>\n",
       "      <th>0.10</th>\n",
       "      <td>0.65169</td>\n",
       "      <td>0.59198</td>\n",
       "      <td>0.42405</td>\n",
       "      <td>0.39926</td>\n",
       "      <td>0.68939</td>\n",
       "    </tr>\n",
       "    <tr>\n",
       "      <th>0.15</th>\n",
       "      <td>0.70535</td>\n",
       "      <td>0.61737</td>\n",
       "      <td>0.40505</td>\n",
       "      <td>0.42518</td>\n",
       "      <td>0.73565</td>\n",
       "    </tr>\n",
       "    <tr>\n",
       "      <th>0.20</th>\n",
       "      <td>0.75781</td>\n",
       "      <td>0.55542</td>\n",
       "      <td>0.40729</td>\n",
       "      <td>0.42510</td>\n",
       "      <td>0.76360</td>\n",
       "    </tr>\n",
       "    <tr>\n",
       "      <th>0.25</th>\n",
       "      <td>0.74491</td>\n",
       "      <td>0.56551</td>\n",
       "      <td>0.37800</td>\n",
       "      <td>0.44883</td>\n",
       "      <td>0.78429</td>\n",
       "    </tr>\n",
       "    <tr>\n",
       "      <th>0.30</th>\n",
       "      <td>0.81538</td>\n",
       "      <td>0.64201</td>\n",
       "      <td>0.33779</td>\n",
       "      <td>0.47314</td>\n",
       "      <td>0.80773</td>\n",
       "    </tr>\n",
       "    <tr>\n",
       "      <th>0.35</th>\n",
       "      <td>0.82967</td>\n",
       "      <td>0.60174</td>\n",
       "      <td>0.38455</td>\n",
       "      <td>0.49310</td>\n",
       "      <td>0.82500</td>\n",
       "    </tr>\n",
       "  </tbody>\n",
       "</table>\n",
       "</div>"
      ],
      "text/plain": [
       "       CSP_LP  Bregman  KernelFDA   SC_MPI   KISSME\n",
       "0.10  0.65169  0.59198    0.42405  0.39926  0.68939\n",
       "0.15  0.70535  0.61737    0.40505  0.42518  0.73565\n",
       "0.20  0.75781  0.55542    0.40729  0.42510  0.76360\n",
       "0.25  0.74491  0.56551    0.37800  0.44883  0.78429\n",
       "0.30  0.81538  0.64201    0.33779  0.47314  0.80773\n",
       "0.35  0.82967  0.60174    0.38455  0.49310  0.82500"
      ]
     },
     "execution_count": 57,
     "metadata": {},
     "output_type": "execute_result"
    }
   ],
   "source": [
    "p_range=proportion_range\n",
    "for criterion in arange(5):\n",
    "        r=array(news_r11).mean(axis=3)[:,:,0].T\n",
    "        criteria=['KmAmi','KmAri','WardAmi','WardAri','runtime']\n",
    "        cat=criteria[criterion]\n",
    "        r_df=pd.DataFrame(data=np.round(r,5), index=p_range,\n",
    "                                         columns=['CSP_LP','Bregman','KernelFDA','SC_MPI','KISSME'])\n",
    "r_df"
   ]
  },
  {
   "cell_type": "markdown",
   "metadata": {},
   "source": [
    "# Time cost"
   ]
  },
  {
   "cell_type": "code",
   "execution_count": 58,
   "metadata": {},
   "outputs": [
    {
     "data": {
      "text/html": [
       "<div>\n",
       "<style scoped>\n",
       "    .dataframe tbody tr th:only-of-type {\n",
       "        vertical-align: middle;\n",
       "    }\n",
       "\n",
       "    .dataframe tbody tr th {\n",
       "        vertical-align: top;\n",
       "    }\n",
       "\n",
       "    .dataframe thead th {\n",
       "        text-align: right;\n",
       "    }\n",
       "</style>\n",
       "<table border=\"1\" class=\"dataframe\">\n",
       "  <thead>\n",
       "    <tr style=\"text-align: right;\">\n",
       "      <th></th>\n",
       "      <th>CSP_LP</th>\n",
       "      <th>Bregman</th>\n",
       "      <th>KernelFDA</th>\n",
       "      <th>SC_MPI</th>\n",
       "      <th>KISSME</th>\n",
       "    </tr>\n",
       "  </thead>\n",
       "  <tbody>\n",
       "    <tr>\n",
       "      <th>0.10</th>\n",
       "      <td>0.06636</td>\n",
       "      <td>754.16528</td>\n",
       "      <td>657.59280</td>\n",
       "      <td>160.58468</td>\n",
       "      <td>880.94341</td>\n",
       "    </tr>\n",
       "    <tr>\n",
       "      <th>0.15</th>\n",
       "      <td>0.04163</td>\n",
       "      <td>974.04653</td>\n",
       "      <td>174.90465</td>\n",
       "      <td>383.54031</td>\n",
       "      <td>891.99594</td>\n",
       "    </tr>\n",
       "    <tr>\n",
       "      <th>0.20</th>\n",
       "      <td>0.39190</td>\n",
       "      <td>2742.24916</td>\n",
       "      <td>182.04602</td>\n",
       "      <td>375.48780</td>\n",
       "      <td>180.88584</td>\n",
       "    </tr>\n",
       "    <tr>\n",
       "      <th>0.25</th>\n",
       "      <td>0.39701</td>\n",
       "      <td>1281.40659</td>\n",
       "      <td>172.42714</td>\n",
       "      <td>354.91210</td>\n",
       "      <td>198.09551</td>\n",
       "    </tr>\n",
       "    <tr>\n",
       "      <th>0.30</th>\n",
       "      <td>0.04999</td>\n",
       "      <td>1562.58511</td>\n",
       "      <td>176.91378</td>\n",
       "      <td>351.00352</td>\n",
       "      <td>153.19213</td>\n",
       "    </tr>\n",
       "    <tr>\n",
       "      <th>0.35</th>\n",
       "      <td>0.06806</td>\n",
       "      <td>1699.75825</td>\n",
       "      <td>180.67712</td>\n",
       "      <td>351.17143</td>\n",
       "      <td>170.97177</td>\n",
       "    </tr>\n",
       "  </tbody>\n",
       "</table>\n",
       "</div>"
      ],
      "text/plain": [
       "       CSP_LP     Bregman  KernelFDA     SC_MPI     KISSME\n",
       "0.10  0.06636   754.16528  657.59280  160.58468  880.94341\n",
       "0.15  0.04163   974.04653  174.90465  383.54031  891.99594\n",
       "0.20  0.39190  2742.24916  182.04602  375.48780  180.88584\n",
       "0.25  0.39701  1281.40659  172.42714  354.91210  198.09551\n",
       "0.30  0.04999  1562.58511  176.91378  351.00352  153.19213\n",
       "0.35  0.06806  1699.75825  180.67712  351.17143  170.97177"
      ]
     },
     "execution_count": 58,
     "metadata": {},
     "output_type": "execute_result"
    }
   ],
   "source": [
    "p_range=proportion_range\n",
    "for criterion in arange(5):\n",
    "        r=array(news_r11).mean(axis=3)[:,:,4].T\n",
    "        criteria=['KmAmi','KmAri','WardAmi','WardAri','runtime']\n",
    "        cat=criteria[criterion]\n",
    "        r_df=pd.DataFrame(data=np.round(r,5), index=p_range,\n",
    "                                         columns=['CSP_LP','Bregman','KernelFDA','SC_MPI','KISSME'])\n",
    "r_df"
   ]
  }
 ],
 "metadata": {
  "kernelspec": {
   "display_name": "Python 3 (ipykernel)",
   "language": "python",
   "name": "python3"
  },
  "language_info": {
   "codemirror_mode": {
    "name": "ipython",
    "version": 3
   },
   "file_extension": ".py",
   "mimetype": "text/x-python",
   "name": "python",
   "nbconvert_exporter": "python",
   "pygments_lexer": "ipython3",
   "version": "3.9.12"
  }
 },
 "nbformat": 4,
 "nbformat_minor": 2
}
